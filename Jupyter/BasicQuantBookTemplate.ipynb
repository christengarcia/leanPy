{
 "cells": [
  {
   "cell_type": "markdown",
   "metadata": {},
   "source": [
    "![QuantConnect Logo](https://cdn.quantconnect.com/web/i/logo-small.png)\n",
    "## Welcome to The QuantConnect Research Page\n",
    "#### Refer to this page for documentation https://www.quantconnect.com/docs#Introduction-to-Jupyter\n",
    "#### Contribute to this template file https://github.com/QuantConnect/Lean/blob/master/Jupyter/BasicQuantBookTemplate.ipynb"
   ]
  },
  {
   "cell_type": "markdown",
   "metadata": {
    "collapsed": true
   },
   "source": [
    "## QuantBook Basics\n",
    "\n",
    "### Start QuantBook\n",
    "- Add the references and imports\n",
    "- Create a QuantBook instance"
   ]
  },
  {
   "cell_type": "code",
   "execution_count": null,
   "metadata": {},
   "outputs": [],
   "source": [
    "%matplotlib inline\n",
    "# Imports\n",
    "from clr import AddReference\n",
    "AddReference(\"System\")\n",
    "AddReference(\"QuantConnect.Common\")\n",
    "AddReference(\"QuantConnect.Jupyter\")\n",
    "AddReference(\"QuantConnect.Indicators\")\n",
    "from System import *\n",
    "from QuantConnect import *\n",
    "from QuantConnect.Data.Custom import *\n",
    "from QuantConnect.Data.Market import TradeBar, QuoteBar\n",
    "from QuantConnect.Jupyter import *\n",
    "from QuantConnect.Indicators import *\n",
    "from datetime import datetime, timedelta\n",
    "import matplotlib.pyplot as plt\n",
    "import pandas as pd\n",
    "\n",
    "# Create an instance\n",
    "qb = QuantBook()"
   ]
  },
  {
   "cell_type": "markdown",
   "metadata": {
    "collapsed": true
   },
   "source": [
    "### Selecting Asset Data\n",
    "Checkout the QuantConnect [docs](https://www.quantconnect.com/docs#Initializing-Algorithms-Selecting-Asset-Data) to learn how to select asset data."
   ]
  },
  {
   "cell_type": "code",
   "execution_count": null,
   "metadata": {},
   "outputs": [],
   "source": [
    "spy = qb.AddEquity(\"SPY\")\n",
    "eur = qb.AddForex(\"EURUSD\")\n",
    "btc = qb.AddCrypto(\"BTCUSD\")\n",
    "fxv = qb.AddData[FxcmVolume](\"EURUSD_Vol\", Resolution.Hour)"
   ]
  },
  {
   "cell_type": "markdown",
   "metadata": {},
   "source": [
    "### Historical Data Requests\n",
    "\n",
    "We can use the QuantConnect API to make Historical Data Requests. The data will be presented as multi-index pandas.DataFrame where the first index is the Symbol.\n",
    "\n",
    "For more information, please follow the [link](https://www.quantconnect.com/docs#Historical-Data-Historical-Data-Requests)."
   ]
  },
  {
   "cell_type": "code",
   "execution_count": null,
   "metadata": {
    "scrolled": true
   },
   "outputs": [],
   "source": [
    "# Gets historical data from the subscribed assets, the last 360 datapoints with daily resolution\n",
    "h1 = qb.History(qb.Securities.Keys, 360, Resolution.Daily)"
   ]
  },
  {
   "cell_type": "code",
   "execution_count": null,
   "metadata": {},
   "outputs": [],
   "source": [
    "# Plot closing prices from \"SPY\" \n",
    "h1.loc[\"SPY\"][\"close\"].plot()"
   ]
  },
  {
   "cell_type": "code",
   "execution_count": null,
   "metadata": {},
   "outputs": [],
   "source": [
    "# Gets historical data from the subscribed assets, from the last 30 days with daily resolution\n",
    "h2 = qb.History(qb.Securities.Keys, timedelta(360), Resolution.Daily)"
   ]
  },
  {
   "cell_type": "code",
   "execution_count": null,
   "metadata": {},
   "outputs": [],
   "source": [
    "# Plot high prices from \"EURUSD\" \n",
    "h2.loc[\"EURUSD\"][\"high\"].plot()"
   ]
  },
  {
   "cell_type": "code",
   "execution_count": null,
   "metadata": {
    "scrolled": false
   },
   "outputs": [],
   "source": [
    "# Gets historical data from the subscribed assets, between two dates with daily resolution\n",
    "h3 = qb.History([btc.Symbol], datetime(2014,1,1), datetime.now(), Resolution.Daily)"
   ]
  },
  {
   "cell_type": "code",
   "execution_count": null,
   "metadata": {},
   "outputs": [],
   "source": [
    "# Plot closing prices from \"BTCUSD\" \n",
    "h3.loc[\"BTCUSD\"][\"close\"].plot()"
   ]
  },
  {
   "cell_type": "code",
   "execution_count": null,
   "metadata": {},
   "outputs": [],
   "source": [
    "# Only fetchs historical data from a desired symbol\n",
    "h4 = qb.History([spy.Symbol], 360, Resolution.Daily)\n",
    "# or qb.History([\"SPY\"], 360, Resolution.Daily)"
   ]
  },
  {
   "cell_type": "code",
   "execution_count": null,
   "metadata": {},
   "outputs": [],
   "source": [
    "# Only fetchs historical data from a desired symbol\n",
    "h5 = qb.History([eur.Symbol], timedelta(360), Resolution.Daily)\n",
    "# or qb.History([\"EURUSD\"], timedelta(30), Resolution.Daily)"
   ]
  },
  {
   "cell_type": "code",
   "execution_count": null,
   "metadata": {},
   "outputs": [],
   "source": [
    "# Fetchs custom data\n",
    "h6 = qb.History([fxv.Symbol], timedelta(360))\n",
    "h6.loc[fxv.Symbol.Value][\"volume\"].plot()"
   ]
  },
  {
   "cell_type": "markdown",
   "metadata": {},
   "source": [
    "### Historical Options Data Requests\n",
    "- Select the option data\n",
    "- Sets the filter, otherwise the default will be used SetFilter(-1, 1, timedelta(0), timedelta(35))\n",
    "- Get the OptionHistory, an object that has information about the historical options data"
   ]
  },
  {
   "cell_type": "code",
   "execution_count": null,
   "metadata": {},
   "outputs": [],
   "source": [
    "goog = qb.AddOption(\"GOOG\")\n",
    "goog.SetFilter(-2, 2, timedelta(0), timedelta(180))"
   ]
  },
  {
   "cell_type": "code",
   "execution_count": null,
   "metadata": {},
   "outputs": [],
   "source": [
    "option_history = qb.GetOptionHistory(goog.Symbol, datetime(2017, 1, 4))\n",
    "print (option_history.GetStrikes())\n",
    "print (option_history.GetExpiryDates())\n",
    "h7 = option_history.GetAllData()"
   ]
  },
  {
   "cell_type": "markdown",
   "metadata": {},
   "source": [
    "### Historical Future Data Requests\n",
    "- Select the future data\n",
    "- Sets the filter, otherwise the default will be used SetFilter(timedelta(0), timedelta(35))\n",
    "- Get the FutureHistory, an object that has information about the historical future data"
   ]
  },
  {
   "cell_type": "code",
   "execution_count": null,
   "metadata": {
    "scrolled": true
   },
   "outputs": [],
   "source": [
    "es = qb.AddFuture(\"ES\")\n",
    "es.SetFilter(timedelta(0), timedelta(180))"
   ]
  },
  {
   "cell_type": "code",
   "execution_count": null,
   "metadata": {},
   "outputs": [],
   "source": [
    "future_history = qb.GetFutureHistory(es.Symbol, datetime(2017, 1, 4))\n",
    "print (future_history.GetExpiryDates())\n",
    "h7 = future_history.GetAllData()"
   ]
  },
  {
   "cell_type": "markdown",
   "metadata": {},
   "source": [
    "### Get Fundamental Data\n",
    "\n",
    "- *GetFundamental([symbol], selector, start_date = datetime(1998,1,1), end_date = datetime.now())*\n",
    "\n",
    "We will get a pandas.DataFrame with fundamental data."
   ]
  },
  {
   "cell_type": "code",
   "execution_count": null,
   "metadata": {},
   "outputs": [],
   "source": [
    "data = qb.GetFundamental([\"AAPL\",\"AIG\",\"BAC\",\"GOOG\",\"IBM\"], \"ValuationRatios.PERatio\")\n",
    "data"
   ]
  },
  {
   "cell_type": "markdown",
   "metadata": {},
   "source": [
    "### Indicators\n",
    "\n",
    "We can easily get the indicator of a given symbol with QuantBook. \n",
    "\n",
    "For all indicators, please checkout QuantConnect Indicators [Reference Table](https://www.quantconnect.com/docs#Indicators-Reference-Table)"
   ]
  },
  {
   "cell_type": "code",
   "execution_count": null,
   "metadata": {},
   "outputs": [],
   "source": [
    "# Example with BB, it is a datapoint indicator\n",
    "# Define the indicator\n",
    "bb = BollingerBands(30, 2)\n",
    "\n",
    "# Gets historical data of indicator\n",
    "bbdf = qb.Indicator(bb, \"SPY\", 360, Resolution.Daily)\n",
    "\n",
    "# drop undesired fields\n",
    "bbdf = bbdf.drop('standarddeviation', 1)\n",
    "\n",
    "# Plot\n",
    "bbdf.plot()"
   ]
  },
  {
   "cell_type": "code",
   "execution_count": null,
   "metadata": {},
   "outputs": [],
   "source": [
    "# For EURUSD\n",
    "bbdf = qb.Indicator(bb, \"EURUSD\", 360, Resolution.Daily)\n",
    "bbdf = bbdf.drop('standarddeviation', 1)\n",
    "bbdf.plot()"
   ]
  },
  {
   "cell_type": "code",
   "execution_count": null,
   "metadata": {},
   "outputs": [],
   "source": [
    "# Example with ADX, it is a bar indicator\n",
    "adx = AverageDirectionalIndex(\"adx\", 14)\n",
    "adxdf = qb.Indicator(adx, \"SPY\", 360, Resolution.Daily)\n",
    "adxdf.plot()"
   ]
  },
  {
   "cell_type": "code",
   "execution_count": null,
   "metadata": {},
   "outputs": [],
   "source": [
    "# For EURUSD\n",
    "adxdf = qb.Indicator(adx, \"EURUSD\", 360, Resolution.Daily)\n",
    "adxdf.plot()"
   ]
  },
  {
   "cell_type": "code",
   "execution_count": null,
   "metadata": {},
   "outputs": [],
   "source": [
    "# Example with ADO, it is a tradebar indicator (requires volume in its calculation)\n",
    "ado = AccumulationDistributionOscillator(\"ado\", 5, 30)\n",
    "adodf = qb.Indicator(ado, \"SPY\", 360, Resolution.Daily)\n",
    "adodf.plot()"
   ]
  },
  {
   "cell_type": "code",
   "execution_count": null,
   "metadata": {},
   "outputs": [],
   "source": [
    "# For EURUSD. \n",
    "# Uncomment to check that this SHOULD fail, since Forex is data type is not TradeBar.\n",
    "# adodf = qb.Indicator(ado, \"EURUSD\", 360, Resolution.Daily)\n",
    "# adodf.plot()"
   ]
  },
  {
   "cell_type": "code",
   "execution_count": null,
   "metadata": {},
   "outputs": [],
   "source": [
    "# SMA cross:\n",
    "symbol = \"EURUSD\"\n",
    "# Get History \n",
    "hist = qb.History([symbol], 500, Resolution.Daily)\n",
    "# Get the fast moving average\n",
    "fast = qb.Indicator(SimpleMovingAverage(50), symbol, 500, Resolution.Daily)\n",
    "# Get the fast moving average\n",
    "slow = qb.Indicator(SimpleMovingAverage(200), symbol, 500, Resolution.Daily)\n",
    "\n",
    "# Remove undesired columns and rename others \n",
    "fast = fast.drop('rollingsum', 1).rename(columns={'simplemovingaverage': 'fast'})\n",
    "slow = slow.drop('rollingsum', 1).rename(columns={'simplemovingaverage': 'slow'})\n",
    "\n",
    "# Concatenate the information and plot \n",
    "df = pd.concat([hist.loc[symbol][\"close\"], fast, slow], axis=1).dropna(axis=0)\n",
    "df.plot()"
   ]
  },
  {
   "cell_type": "code",
   "execution_count": null,
   "metadata": {},
   "outputs": [],
   "source": [
    "# Get indicator defining a lookback period in terms of timedelta\n",
    "ema1 = qb.Indicator(ExponentialMovingAverage(50), \"SPY\", timedelta(100), Resolution.Daily)\n",
    "# Get indicator defining a start and end date\n",
    "ema2 = qb.Indicator(ExponentialMovingAverage(50), \"SPY\", datetime(2016,1,1), datetime(2016,10,1), Resolution.Daily)\n",
    "\n",
    "ema = pd.concat([ema1, ema2], axis=1)\n",
    "ema.plot()"
   ]
  },
  {
   "cell_type": "code",
   "execution_count": null,
   "metadata": {},
   "outputs": [],
   "source": [
    "rsi = RelativeStrengthIndex(14)\n",
    "\n",
    "# Selects which field we want to use in our indicator (default is Field.Close)\n",
    "rsihi = qb.Indicator(rsi, \"SPY\", 360, Resolution.Daily, Field.High)\n",
    "rsilo = qb.Indicator(rsi, \"SPY\", 360, Resolution.Daily, Field.Low)\n",
    "rsihi = rsihi.rename(columns={'relativestrengthindex': 'high'})\n",
    "rsilo = rsilo.rename(columns={'relativestrengthindex': 'low'})\n",
    "rsi = pd.concat([rsihi['high'], rsilo['low']], axis=1)\n",
    "rsi.plot()"
   ]
  }
 ],
 "metadata": {
  "kernelspec": {
   "display_name": "Python 3",
   "language": "python",
   "name": "python3"
  },
  "language_info": {
   "codemirror_mode": {
    "name": "ipython",
    "version": 3
   },
   "file_extension": ".py",
   "mimetype": "text/x-python",
   "name": "python",
   "nbconvert_exporter": "python",
   "pygments_lexer": "ipython3",
   "version": "3.6.4"
  }
 },
 "nbformat": 4,
 "nbformat_minor": 2
}
